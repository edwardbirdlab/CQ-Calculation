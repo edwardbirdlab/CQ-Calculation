{
 "cells": [
  {
   "cell_type": "code",
   "execution_count": 5,
   "id": "2589d403-5c84-4c01-9494-3928288083fc",
   "metadata": {},
   "outputs": [],
   "source": [
    "def load_fasta(file_path):\n",
    "    fasta_dict = {}\n",
    "    with open(file_path, 'r') as f:\n",
    "        header = None\n",
    "        sequence = []\n",
    "        \n",
    "        for line in f:\n",
    "            line = line.strip()  # Remove any leading/trailing whitespace\n",
    "            if line.startswith(\">\"):  # This is a header line\n",
    "                if header:  # If there was a previous sequence, save it\n",
    "                    fasta_dict[header] = ''.join(sequence)\n",
    "                header = line[1:]  # Remove the \">\" from the header\n",
    "                sequence = []  # Start a new sequence\n",
    "            else:\n",
    "                sequence.append(line)  # Add the sequence part to the list\n",
    "        \n",
    "        # Save the last sequence\n",
    "        if header:\n",
    "            fasta_dict[header] = ''.join(sequence)\n",
    "\n",
    "    return fasta_dict"
   ]
  },
  {
   "cell_type": "code",
   "execution_count": 13,
   "id": "f53a80fa-cb32-4adc-8520-15611302e2b1",
   "metadata": {},
   "outputs": [],
   "source": [
    "def break_into_chunks(fasta_dict, chunk_size=1000):\n",
    "    new_fasta_dict = {}\n",
    "    for scaffold, sequence in fasta_dict.items():\n",
    "        # Calculate the number of chunks for the current scaffold\n",
    "        num_chunks = (len(sequence) + chunk_size - 1) // chunk_size  # This ensures rounding up\n",
    "        \n",
    "        # Break the sequence into chunks\n",
    "        for i in range(num_chunks):\n",
    "            chunk_sequence = sequence[i * chunk_size : (i + 1) * chunk_size]\n",
    "            # Generate new scaffold name (e.g., scaffold_1, scaffold_2, ...)\n",
    "            new_scaffold_name = f\"{scaffold}_{i+1}\"\n",
    "            # Add the chunk to the new dictionary\n",
    "            new_fasta_dict[new_scaffold_name] = chunk_sequence\n",
    "            \n",
    "    return new_fasta_dict"
   ]
  },
  {
   "cell_type": "code",
   "execution_count": 23,
   "id": "5af7eba0-d4d9-4c07-b231-a323d9c68fd6",
   "metadata": {},
   "outputs": [],
   "source": [
    "def write_fasta(fasta_dict, output_file):\n",
    "    with open(output_file, 'w') as f:\n",
    "        for header, sequence in fasta_dict.items():\n",
    "            # Write the header line, starting with '>'\n",
    "            f.write(f\">{header}\\n\")\n",
    "            # Write the sequence, breaking it into lines of 80 characters (for readability)\n",
    "            for i in range(0, len(sequence), 80):\n",
    "                f.write(sequence[i:i+80] + \"\\n\")"
   ]
  },
  {
   "cell_type": "code",
   "execution_count": 14,
   "id": "0b38e67a-7fcb-498f-80a1-adc8569d98e6",
   "metadata": {},
   "outputs": [],
   "source": [
    "\n",
    "# Example usage:\n",
    "fasta_file = \"idCulSono.KS.ABADRU.1.0.fasta\"\n",
    "\n",
    "genome_full = load_fasta(fasta_file)"
   ]
  },
  {
   "cell_type": "code",
   "execution_count": 15,
   "id": "56c54ab6-aa8c-4dd9-bef5-d9b78643d451",
   "metadata": {},
   "outputs": [
    {
     "data": {
      "text/plain": [
       "10"
      ]
     },
     "execution_count": 15,
     "metadata": {},
     "output_type": "execute_result"
    }
   ],
   "source": [
    "len(genome_full.keys())"
   ]
  },
  {
   "cell_type": "code",
   "execution_count": 16,
   "id": "8238c48e-9f4b-47de-9982-e5d4cc614833",
   "metadata": {},
   "outputs": [],
   "source": [
    "# Break into 1000bp chunks\n",
    "chunked_fasta_dict = break_into_chunks(genome_full, chunk_size=1000)"
   ]
  },
  {
   "cell_type": "code",
   "execution_count": 18,
   "id": "8b709166-adab-4a50-b570-3c63c65ff5eb",
   "metadata": {},
   "outputs": [
    {
     "data": {
      "text/plain": [
       "136870"
      ]
     },
     "execution_count": 18,
     "metadata": {},
     "output_type": "execute_result"
    }
   ],
   "source": [
    "len(chunked_fasta_dict.keys())"
   ]
  },
  {
   "cell_type": "code",
   "execution_count": 22,
   "id": "3c09f21b-43a6-4c90-9a14-d4eb33df9e85",
   "metadata": {},
   "outputs": [
    {
     "data": {
      "text/plain": [
       "1000"
      ]
     },
     "execution_count": 22,
     "metadata": {},
     "output_type": "execute_result"
    }
   ],
   "source": [
    "chunked_fasta_dict['PGA_scaffold_1__1_contigs__length_48100000_1']"
   ]
  },
  {
   "cell_type": "code",
   "execution_count": 24,
   "id": "6c1cd980-08ca-49c3-81e9-6694cc4b400b",
   "metadata": {},
   "outputs": [],
   "source": [
    "write_fasta(chunked_fasta_dict, 'AK_Genome_1kb_chunks.fasta')"
   ]
  },
  {
   "cell_type": "code",
   "execution_count": 28,
   "id": "3dc4d880-7c70-41bf-a974-7820dc87bcf7",
   "metadata": {},
   "outputs": [
    {
     "data": {
      "text/plain": [
       "0.13687"
      ]
     },
     "execution_count": 28,
     "metadata": {},
     "output_type": "execute_result"
    }
   ],
   "source": [
    "(136870*1000)/1000000000"
   ]
  },
  {
   "cell_type": "code",
   "execution_count": 29,
   "id": "7fb8ba6b-81e9-44da-86dc-33d0a47aee0f",
   "metadata": {},
   "outputs": [
    {
     "data": {
      "text/plain": [
       "136865895"
      ]
     },
     "execution_count": 29,
     "metadata": {},
     "output_type": "execute_result"
    }
   ],
   "source": [
    "test_all_dna = ''\n",
    "for k,v in genome_full.items():\n",
    "    test_all_dna += v\n",
    "\n",
    "len(test_all_dna)"
   ]
  },
  {
   "cell_type": "code",
   "execution_count": 30,
   "id": "b23e48b7-87ef-4e38-8c7d-4342ec64fffa",
   "metadata": {},
   "outputs": [
    {
     "data": {
      "text/plain": [
       "136865895"
      ]
     },
     "execution_count": 30,
     "metadata": {},
     "output_type": "execute_result"
    }
   ],
   "source": [
    "test_all_dna = ''\n",
    "for k,v in chunked_fasta_dict.items():\n",
    "    test_all_dna += v\n",
    "\n",
    "len(test_all_dna)"
   ]
  },
  {
   "cell_type": "code",
   "execution_count": null,
   "id": "ddae44e3-048a-4a80-a9d1-7940c928ddee",
   "metadata": {},
   "outputs": [],
   "source": []
  }
 ],
 "metadata": {
  "kernelspec": {
   "display_name": "Python 3 (ipykernel)",
   "language": "python",
   "name": "python3"
  },
  "language_info": {
   "codemirror_mode": {
    "name": "ipython",
    "version": 3
   },
   "file_extension": ".py",
   "mimetype": "text/x-python",
   "name": "python",
   "nbconvert_exporter": "python",
   "pygments_lexer": "ipython3",
   "version": "3.9.18"
  }
 },
 "nbformat": 4,
 "nbformat_minor": 5
}
